{
 "cells": [
  {
   "cell_type": "code",
   "execution_count": 1,
   "metadata": {},
   "outputs": [],
   "source": [
    "from Wiki_Hurricane_Scraper import getHurricaneData\n",
    "from FEMA_Scraper import *\n",
    "import numpy as np"
   ]
  },
  {
   "cell_type": "code",
   "execution_count": 2,
   "metadata": {
    "collapsed": true
   },
   "outputs": [],
   "source": [
    "hurricaneDf = getHurricaneData()\n",
    "recentHurricanes = hurricaneDf[hurricaneDf['Season'] >= 2005]\n",
    "name = recentHurricanes['Name'].tolist()\n",
    "season = recentHurricanes['Season'].tolist()\n",
    "disastersInfo = sorted(zip(name, season), key=lambda x: x[1], reverse=True)"
   ]
  },
  {
   "cell_type": "code",
   "execution_count": 4,
   "metadata": {},
   "outputs": [],
   "source": [
    "funding = getAllFunding(disastersInfo, searchParams)"
   ]
  },
  {
   "cell_type": "code",
   "execution_count": 6,
   "metadata": {
    "collapsed": true
   },
   "outputs": [],
   "source": [
    "np.save('funding.npy', funding) \n",
    "loaded = np.load('funding.npy').item()"
   ]
  },
  {
   "cell_type": "code",
   "execution_count": 7,
   "metadata": {},
   "outputs": [
    {
     "data": {
      "text/plain": [
       "{'- Any -': 30113113.169999998,\n",
       " 'Alabama': 0,\n",
       " 'Alaska': 0,\n",
       " 'American Samoa': 0,\n",
       " 'Arizona': 0,\n",
       " 'Arkansas': 0,\n",
       " 'California': 0,\n",
       " 'Colorado': 0,\n",
       " 'Commonwealth of the Northern Mariana Islands': 0,\n",
       " 'Connecticut': 0,\n",
       " 'Delaware': 0,\n",
       " 'District of Columbia (DC)': 0,\n",
       " 'Eastern Band of Cherokee Indians': 0,\n",
       " 'Federated States of Micronesia': 0,\n",
       " 'Florida': 0,\n",
       " 'Georgia': 0,\n",
       " 'Guam': 0,\n",
       " 'Hawaii': 0,\n",
       " 'Hoopa Valley Tribe': 0,\n",
       " 'Idaho': 0,\n",
       " 'Illinois': 0,\n",
       " 'Indiana': 0,\n",
       " 'Iowa': 0,\n",
       " 'Kansas': 0,\n",
       " 'Karuk Tribe': 0,\n",
       " 'Kentucky': 0,\n",
       " 'Louisiana': 0,\n",
       " 'Maine': 0,\n",
       " 'Maryland': 0,\n",
       " 'Massachusetts': 0,\n",
       " 'Michigan': 0,\n",
       " 'Minnesota': 0,\n",
       " 'Mississippi': 0,\n",
       " 'Missouri': 0,\n",
       " 'Montana': 0,\n",
       " 'Navajo Nation': 0,\n",
       " 'Nebraska': 0,\n",
       " 'Nevada': 0,\n",
       " 'New Hampshire': 0,\n",
       " 'New Jersey': 0,\n",
       " 'New Mexico': 0,\n",
       " 'New York': 0,\n",
       " 'North Carolina': 0,\n",
       " 'North Dakota': 0,\n",
       " 'Oglala Sioux Tribe of the Pine Ridge Reservation': 0,\n",
       " 'Ohio': 0,\n",
       " 'Oklahoma': 0,\n",
       " 'Oregon': 0,\n",
       " 'Palau': 0,\n",
       " 'Pennsylvania': 0,\n",
       " 'Pueblo of Acoma': 0,\n",
       " 'Puerto Rico': 0,\n",
       " 'Republic of the Marshall Islands': 0,\n",
       " 'Resighini Rancheria': 0,\n",
       " 'Rhode Island': 0,\n",
       " 'Santa Clara Pueblo': 0,\n",
       " 'Seminole Tribe of Florida': 0,\n",
       " 'Soboba Band of Luiseño Indians': 0,\n",
       " 'South Carolina': 0,\n",
       " 'South Dakota': 0,\n",
       " 'Standing Rock Sioux Tribe': 0,\n",
       " 'Tennessee': 0,\n",
       " 'Texas': 30113113.169999998,\n",
       " 'Utah': 0,\n",
       " 'Vermont': 0,\n",
       " 'Virgin Islands': 0,\n",
       " 'Virginia': 0,\n",
       " 'Washington': 0,\n",
       " 'West Virginia': 0,\n",
       " 'Wisconsin': 0,\n",
       " 'Wyoming': 0}"
      ]
     },
     "execution_count": 7,
     "metadata": {},
     "output_type": "execute_result"
    }
   ],
   "source": [
    "loaded['Alex']"
   ]
  },
  {
   "cell_type": "code",
   "execution_count": null,
   "metadata": {
    "collapsed": true
   },
   "outputs": [],
   "source": []
  }
 ],
 "metadata": {
  "kernelspec": {
   "display_name": "Python 3",
   "language": "python",
   "name": "python3"
  },
  "language_info": {
   "codemirror_mode": {
    "name": "ipython",
    "version": 3
   },
   "file_extension": ".py",
   "mimetype": "text/x-python",
   "name": "python",
   "nbconvert_exporter": "python",
   "pygments_lexer": "ipython3",
   "version": "3.6.3"
  }
 },
 "nbformat": 4,
 "nbformat_minor": 2
}
