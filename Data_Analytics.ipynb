{
 "cells": [
  {
   "cell_type": "code",
   "execution_count": 1,
   "metadata": {},
   "outputs": [],
   "source": [
    "from Wiki_Hurricane_Scraper import getHurricaneData\n",
    "from FEMA_Scraper import *\n",
    "import numpy as np\n",
    "import pandas as pd"
   ]
  },
  {
   "cell_type": "code",
   "execution_count": 2,
   "metadata": {
    "collapsed": true
   },
   "outputs": [],
   "source": [
    "hurricaneDf = getHurricaneData()\n",
    "recentHurricanes = hurricaneDf[hurricaneDf['Season'] >= 2005]\n",
    "name = recentHurricanes['Name'].tolist()\n",
    "season = recentHurricanes['Season'].tolist()\n",
    "locations = getAllLocations()\n",
    "disastersInfo = list(zip(name, season))"
   ]
  },
  {
   "cell_type": "code",
   "execution_count": 4,
   "metadata": {},
   "outputs": [
    {
     "name": "stdout",
     "output_type": "stream",
     "text": [
      "Gathering Data for Hurricane Katrina\n",
      "Finished with Hurricane Katrina\n",
      "Gathering Data for Hurricane Harvey\n",
      "Finished with Hurricane Harvey\n",
      "Gathering Data for Hurricane Maria\n",
      "Finished with Hurricane Maria\n",
      "Gathering Data for Hurricane Sandy\n",
      "Finished with Hurricane Sandy\n",
      "Gathering Data for Hurricane Irma\n",
      "Finished with Hurricane Irma\n",
      "Gathering Data for Hurricane Ike\n",
      "Finished with Hurricane Ike\n",
      "Gathering Data for Hurricane Wilma\n",
      "Finished with Hurricane Wilma\n",
      "Gathering Data for Hurricane Rita\n",
      "Finished with Hurricane Rita\n",
      "Gathering Data for Hurricane Matthew\n",
      "Finished with Hurricane Matthew\n",
      "Gathering Data for Hurricane Irene\n",
      "Finished with Hurricane Irene\n",
      "Gathering Data for Hurricane Gustav\n",
      "Finished with Hurricane Gustav\n",
      "Gathering Data for Hurricane Stan\n",
      "Finished with Hurricane Stan\n",
      "Gathering Data for Hurricane Karl\n",
      "Finished with Hurricane Karl\n",
      "Gathering Data for Hurricane Dennis\n",
      "Finished with Hurricane Dennis\n",
      "Gathering Data for Hurricane Isaac\n",
      "Finished with Hurricane Isaac\n",
      "Gathering Data for Hurricane Lee\n",
      "Finished with Hurricane Lee\n",
      "Gathering Data for Hurricane Dean\n",
      "Finished with Hurricane Dean\n",
      "Gathering Data for Hurricane Dolly\n",
      "Finished with Hurricane Dolly\n",
      "Gathering Data for Hurricane Alex\n",
      "Finished with Hurricane Alex\n",
      "Gathering Data for Hurricane Ingrid\n",
      "Finished with Hurricane Ingrid\n",
      "Gathering Data for Hurricane Emily\n",
      "Finished with Hurricane Emily\n"
     ]
    }
   ],
   "source": [
    "funding = getAllFunding(disastersInfo, searchParams)"
   ]
  },
  {
   "cell_type": "code",
   "execution_count": 6,
   "metadata": {},
   "outputs": [],
   "source": [
    "fundingdf = pd.DataFrame(columns=['Year'] + locations, index=name)"
   ]
  },
  {
   "cell_type": "code",
   "execution_count": 7,
   "metadata": {},
   "outputs": [],
   "source": [
    "for hurricane, locs in funding.items():\n",
    "    for loc, funds in locs.items():\n",
    "        fundingdf.at[hurricane, loc] = funds\n",
    "for name, year in disastersInfo:\n",
    "    fundingdf.at[name, 'Year'] = year "
   ]
  },
  {
   "cell_type": "code",
   "execution_count": 10,
   "metadata": {},
   "outputs": [],
   "source": [
    "fundingdf.to_csv('fundingRaised.csv')"
   ]
  },
  {
   "cell_type": "code",
   "execution_count": null,
   "metadata": {
    "collapsed": true
   },
   "outputs": [],
   "source": []
  }
 ],
 "metadata": {
  "kernelspec": {
   "display_name": "Python 3",
   "language": "python",
   "name": "python3"
  },
  "language_info": {
   "codemirror_mode": {
    "name": "ipython",
    "version": 3
   },
   "file_extension": ".py",
   "mimetype": "text/x-python",
   "name": "python",
   "nbconvert_exporter": "python",
   "pygments_lexer": "ipython3",
   "version": "3.6.3"
  }
 },
 "nbformat": 4,
 "nbformat_minor": 2
}
