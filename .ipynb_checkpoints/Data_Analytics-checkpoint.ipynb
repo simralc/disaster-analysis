{
 "cells": [
  {
   "cell_type": "code",
   "execution_count": 5,
   "metadata": {},
   "outputs": [],
   "source": [
    "from Wiki_Hurricane_Scraper import getHurricaneData\n",
    "from FEMA_Scraper import *"
   ]
  },
  {
   "cell_type": "code",
   "execution_count": 6,
   "metadata": {
    "collapsed": true
   },
   "outputs": [],
   "source": [
    "hurricaneDf = getHurricaneData()\n",
    "name = hurricaneDf['Name'].tolist()\n",
    "season = hurricaneDf['Season'].tolist()\n",
    "disastersInfo = zip(name, season)"
   ]
  },
  {
   "cell_type": "code",
   "execution_count": 7,
   "metadata": {},
   "outputs": [
    {
     "data": {
      "text/plain": [
       "[('Katrina', 2005),\n",
       " ('Harvey', 2017),\n",
       " ('Maria', 2017),\n",
       " ('Sandy', 2012),\n",
       " ('Irma', 2017),\n",
       " ('Ike', 2008),\n",
       " ('Wilma', 2005),\n",
       " ('Andrew', 1992),\n",
       " ('Ivan', 2004),\n",
       " ('Rita', 2005),\n",
       " ('Charley', 2004),\n",
       " ('Matthew', 2016),\n",
       " ('Irene', 2011),\n",
       " ('Frances', 2004),\n",
       " ('Hugo', 1989),\n",
       " ('Georges', 1998),\n",
       " ('Allison', 2001),\n",
       " ('Gustav', 2008),\n",
       " ('Jeanne', 2004),\n",
       " ('Floyd', 1999),\n",
       " ('Mitch', 1998),\n",
       " ('Isabel', 2003),\n",
       " ('Fran', 1996),\n",
       " ('Opal', 1995),\n",
       " ('Stan', 2005),\n",
       " ('Karl ', 2010),\n",
       " ('Dennis', 2005),\n",
       " ('Isaac ', 2012),\n",
       " ('Alicia', 1983),\n",
       " ('Gilbert', 1988),\n",
       " ('Luis', 1995),\n",
       " ('Lee ', 2011),\n",
       " ('Michelle', 2001),\n",
       " ('Marilyn', 1995),\n",
       " ('Agnes', 1972),\n",
       " ('Dean', 2007),\n",
       " ('Joan', 1988),\n",
       " ('Fifi', 1974),\n",
       " ('Frederic', 1979),\n",
       " ('Dolly ', 2008),\n",
       " ('Allen', 1980),\n",
       " ('David', 1979),\n",
       " ('Alex ', 2010),\n",
       " ('Juan ', 1985),\n",
       " ('Bob', 1991),\n",
       " ('Roxanne', 1995),\n",
       " ('Ingrid', 2013),\n",
       " ('Betsy', 1965),\n",
       " ('Camille', 1969),\n",
       " ('Elena', 1985),\n",
       " ('Isidore', 2002),\n",
       " ('Lili', 2002),\n",
       " ('Alberto ', 1994),\n",
       " ('Emily ', 2005),\n",
       " ('Bonnie ', 1998)]"
      ]
     },
     "execution_count": 7,
     "metadata": {},
     "output_type": "execute_result"
    }
   ],
   "source": [
    "disastersInfo = "
   ]
  },
  {
   "cell_type": "code",
   "execution_count": null,
   "metadata": {
    "collapsed": true
   },
   "outputs": [],
   "source": []
  }
 ],
 "metadata": {
  "kernelspec": {
   "display_name": "Python 3",
   "language": "python",
   "name": "python3"
  },
  "language_info": {
   "codemirror_mode": {
    "name": "ipython",
    "version": 3
   },
   "file_extension": ".py",
   "mimetype": "text/x-python",
   "name": "python",
   "nbconvert_exporter": "python",
   "pygments_lexer": "ipython3",
   "version": "3.6.3"
  }
 },
 "nbformat": 4,
 "nbformat_minor": 2
}
