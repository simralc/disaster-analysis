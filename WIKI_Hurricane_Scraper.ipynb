{
 "cells": [
  {
   "cell_type": "code",
   "execution_count": 1,
   "metadata": {
    "collapsed": true
   },
   "outputs": [],
   "source": [
    "import requests\n",
    "import pandas as pd\n",
    "from bs4 import BeautifulSoup\n",
    "import matplotlib.pyplot as plt\n",
    "import re"
   ]
  },
  {
   "cell_type": "code",
   "execution_count": 26,
   "metadata": {
    "collapsed": true
   },
   "outputs": [],
   "source": [
    "def getHurricaneData():\n",
    "    url = \"https://en.wikipedia.org/wiki/List_of_costliest_Atlantic_hurricanes\"\n",
    "    html_string = requests.get(url).content\n",
    "    if not html_string:\n",
    "        print('Could Not Get Hurricane Data')\n",
    "        return None\n",
    "    soup = BeautifulSoup(html_string, 'html.parser')\n",
    "    table = soup.find('table')\n",
    "    columns = ['Name', 'Damages', 'Season',\n",
    "               'Intensity']\n",
    "\n",
    "    num_rows = len(table.find_all('tr'))\n",
    "    hurricaneDf = pd.DataFrame(columns=columns, index=range(num_rows-1))\n",
    "    \n",
    "    for row_marker, row in enumerate(table.find_all('tr')[1:]):\n",
    "        Name = row.find('th').text.strip()\n",
    "        hurricaneDf.iat[row_marker, 0] = Name\n",
    "\n",
    "        for column_marker, column in enumerate(row.find_all('td')[:3]):\n",
    "            if column_marker != 1:\n",
    "                hurricaneDf.iat[row_marker, column_marker+1] = column.find('span', class_='sorttext').text.strip()\n",
    "            else:\n",
    "                hurricaneDf.iat[row_marker, column_marker+1] = column.find('a').text.strip()\n",
    "\n",
    "    hurricaneDf['Season'] = hurricaneDf['Season'].apply(lambda x: int(x))\n",
    "    hurricaneDf['Damages'] = hurricaneDf['Damages'].apply(lambda x: float(x[1:]) * 1000000000)\n",
    "    def findNumber(string):\n",
    "        nums = re.findall(r'\\d+', string)\n",
    "        if len(nums) == 0:\n",
    "            return 0\n",
    "        return nums[0]\n",
    "    hurricaneDf['Intensity'] = hurricaneDf['Intensity'].apply(lambda string: findNumber(string))\n",
    "    return hurricaneDf\n",
    "\n",
    "def plotHurricaneDF(df):\n",
    "    pltWidth, pltHeight = 20, 10\n",
    "    plt.rcParams['figure.figsize'] = (pltWidth, pltHeight)\n",
    "    hurricane = df.sort_values(ascending=False, by='Season')\n",
    "    plt.bar(range(hurricane.shape[0]), hurricane['Damages'])\n",
    "    plt.xticks(range(hurricane.shape[0]), hurricane['Name'], rotation=90)\n",
    "    plt.ylabel('in Billion USD')\n",
    "    plt.show()"
   ]
  },
  {
   "cell_type": "code",
   "execution_count": 25,
   "metadata": {
    "collapsed": true,
    "scrolled": true
   },
   "outputs": [],
   "source": [
    "# plotHurricaneDF(hurricaneDf)#"
   ]
  }
 ],
 "metadata": {
  "kernelspec": {
   "display_name": "Python 3",
   "language": "python",
   "name": "python3"
  },
  "language_info": {
   "codemirror_mode": {
    "name": "ipython",
    "version": 3
   },
   "file_extension": ".py",
   "mimetype": "text/x-python",
   "name": "python",
   "nbconvert_exporter": "python",
   "pygments_lexer": "ipython3",
   "version": "3.6.3"
  }
 },
 "nbformat": 4,
 "nbformat_minor": 2
}
