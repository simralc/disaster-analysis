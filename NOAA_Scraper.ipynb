{
 "cells": [
  {
   "cell_type": "code",
   "execution_count": 1,
   "metadata": {
    "collapsed": true
   },
   "outputs": [],
   "source": [
    "import io, time, json\n",
    "import requests\n",
    "from bs4 import BeautifulSoup\n",
    "import urllib\n",
    "from urllib import parse\n",
    "import time\n",
    "import pandas as pd"
   ]
  },
  {
   "cell_type": "code",
   "execution_count": 2,
   "metadata": {
    "collapsed": true
   },
   "outputs": [],
   "source": [
    "def retrieve_html(url, params = None):  \n",
    "    if params is None:\n",
    "        params = ''\n",
    "    response = requests.get(url + urllib.parse.urlencode(params))\n",
    "    return response.status_code, response.text"
   ]
  },
  {
   "cell_type": "code",
   "execution_count": 3,
   "metadata": {
    "collapsed": true
   },
   "outputs": [],
   "source": [
    "def retrieve_County_html(url, urlevents = None, params = None):  \n",
    "    if params is None:\n",
    "        params = ''\n",
    "    nexturl = url + '&'.join(urlevents) + '&' + urllib.parse.urlencode(params)\n",
    "    response = requests.get(nexturl)\n",
    "    return response.status_code, response.text"
   ]
  },
  {
   "cell_type": "code",
   "execution_count": 4,
   "metadata": {
    "collapsed": true
   },
   "outputs": [],
   "source": [
    "def parse_page(html):\n",
    "    soup = BeautifulSoup(html, 'html.parser')\n",
    "    prd = soup.find(\"table\", id=\"results\")\n",
    "    if prd is None:\n",
    "        print('No results found')\n",
    "        return\n",
    "    prd = soup.find_all(\"tr\")\n",
    "    fund_val = prd[8].find_all(\"td\")[-2].text\n",
    "    return fund_val"
   ]
  },
  {
   "cell_type": "code",
   "execution_count": 5,
   "metadata": {
    "collapsed": true
   },
   "outputs": [],
   "source": [
    "def get_all_states(html):\n",
    "    soup = BeautifulSoup(html, 'html.parser')\n",
    "    states = soup.find(\"select\", id=\"statefips\").find_all(\"option\")\n",
    "    states_text = [t.text for t in states]\n",
    "    states_values = [t['value'] for t in states]\n",
    "    return zip(states_values, states_text)"
   ]
  },
  {
   "cell_type": "code",
   "execution_count": 6,
   "metadata": {
    "collapsed": true
   },
   "outputs": [],
   "source": [
    "def getFundingForQuery(url, params, search_html):\n",
    "    state_list = get_all_states(search_html)\n",
    "    state_damage_vals = []\n",
    "    for state_value, state_text in state_list:\n",
    "        params['statefips'] = state_value\n",
    "        state_damage_page = retrieve_html(url, params)[1]\n",
    "        state_damage_vals.append(parse_page(state_damage_page))\n",
    "    return state_damage_vals"
   ]
  },
  {
   "cell_type": "code",
   "execution_count": 7,
   "metadata": {
    "collapsed": true
   },
   "outputs": [],
   "source": [
    "def getFundingDataFromNOAA(eventType='(Z) Storm Surge/Tide', beginDate_mm='01', beginDate_dd='01', \n",
    "                           beginDate_yyyy='2017', endDate_mm='01', endDate_dd='31', endDate_yyyy='2018', \n",
    "                           county='ALL', statefips='48,TEXAS'):\n",
    "    url = \"https://www.ncdc.noaa.gov/stormevents/listevents.jsp?\"\n",
    "    params = {'eventType': eventType,\n",
    "                  'beginDate_mm': beginDate_mm,\n",
    "                  'beginDate_dd': beginDate_dd,\n",
    "                  'beginDate_yyyy': beginDate_yyyy,\n",
    "                  'endDate_mm': endDate_mm,\n",
    "                  'endDate_dd': endDate_dd,\n",
    "                  'endDate_yyyy': endDate_yyyy,\n",
    "                  'county': county,\n",
    "                  'sort': 'DT',\n",
    "                  'submitbutton': 'Search',\n",
    "                  'statefips': statefips}\n",
    "    \n",
    "    searchUrl = \"https://www.ncdc.noaa.gov/stormevents/choosedates.jsp?statefips=-999%2CALL\"\n",
    "    search_html = retrieve_html(searchUrl)[1]\n",
    "    damage_values = getFundingForQuery(url, params, search_html)\n",
    "    return damage_values"
   ]
  },
  {
   "cell_type": "code",
   "execution_count": 8,
   "metadata": {
    "collapsed": true
   },
   "outputs": [],
   "source": [
    "# Get list of all county's corresponding to the states\n",
    "def parse_county_page(html):\n",
    "    soup = BeautifulSoup(html, 'html.parser')\n",
    "    prd = soup.find('select', attrs={'name':'county'})\n",
    "    if prd is None:\n",
    "        print('No results found')\n",
    "        return\n",
    "    prd = prd.find_all(\"option\")\n",
    "    return prd"
   ]
  },
  {
   "cell_type": "code",
   "execution_count": 9,
   "metadata": {
    "collapsed": true,
    "scrolled": true
   },
   "outputs": [],
   "source": [
    "def getCountyList():\n",
    "    searchUrl = \"https://www.ncdc.noaa.gov/stormevents/choosedates.jsp?\"\n",
    "    search_html = retrieve_html(searchUrl + 'statefips=-999%2CALL')[1]\n",
    "    state_county = {}\n",
    "\n",
    "    print('Number of counties per state observed in NOAA.')\n",
    "    for state_value, state_text in get_all_states(search_html):\n",
    "        state_county[state_text] = []\n",
    "        params = {'statefips': state_value}\n",
    "        search_html = retrieve_html(searchUrl, params=params)[1]\n",
    "        county_list = parse_county_page(search_html)\n",
    "        if county_list is not None:\n",
    "            state_county[state_text] = [(i['value'], i.text) for i in county_list if i is not None]        \n",
    "        print('{}: {}'.format(state_text, len(state_county[state_text])))\n",
    "    \n",
    "    return state_county"
   ]
  },
  {
   "cell_type": "code",
   "execution_count": 14,
   "metadata": {
    "collapsed": true
   },
   "outputs": [],
   "source": [
    "#Now we have the dictionary of states and their countys. Lets extract all data for given state and county\n",
    "def getNumber(string):\n",
    "    val = 1\n",
    "    if string.endswith('K'):\n",
    "        val = 1e3\n",
    "    elif string.endswith('M'):\n",
    "        val = 1e6\n",
    "    elif string.endswith('B'):\n",
    "        val = 1e9\n",
    "    return round(float(string[:-1])*val, 4)\n",
    "    \n",
    "def getFundingForCounty(url, eventUrl, params, search_html):\n",
    "    state_list = get_all_states(search_html)\n",
    "    state_county_damage_val = {}\n",
    "    for state_value, state_text in state_list:\n",
    "        params['statefips'] = state_value\n",
    "        state_county_damage_val[state_text] = {}\n",
    "        for county_value, county_text in state_county[state_text]:\n",
    "            params['county'] = county_value\n",
    "            code, state_damage_page = retrieve_County_html(url, eventUrl, params)\n",
    "            if code != 200:\n",
    "                print('Could not find %s, %s' %(county_text, state_text))\n",
    "                continue\n",
    "            val = getNumber(parse_page(state_damage_page))\n",
    "            state_county_damage_val[state_text][county_text] = val\n",
    "            time.sleep(0.5)\n",
    "        if state_county_damage_val[state_text]:\n",
    "            print(state_text, 'for year', params['beginDate_yyyy'], 'received: ',\n",
    "                  state_county_damage_val[state_text]['-- All --'])\n",
    "    return state_county_damage_val\n",
    "\n",
    "def getCountyLevelFundingDataFromNOAA(eventUrl = '', beginDate_mm='01', beginDate_dd='01', \n",
    "                           beginDate_yyyy='2017', endDate_mm='12', endDate_dd='31', endDate_yyyy='2018', \n",
    "                           county='ALL', statefips='48,TEXAS'):\n",
    "    url = \"https://www.ncdc.noaa.gov/stormevents/listevents.jsp?\"\n",
    "    params = {'beginDate_mm': beginDate_mm,\n",
    "              'beginDate_dd': beginDate_dd,\n",
    "              'beginDate_yyyy': beginDate_yyyy,\n",
    "              'endDate_mm': endDate_mm,\n",
    "              'endDate_dd': endDate_dd,\n",
    "              'endDate_yyyy': endDate_yyyy,\n",
    "              'county': county,\n",
    "              'statefips': statefips}\n",
    "    \n",
    "    searchUrl = \"https://www.ncdc.noaa.gov/stormevents/choosedates.jsp?statefips=-999%2CALL\"\n",
    "    search_html = retrieve_html(searchUrl)[1]\n",
    "    \n",
    "    damage_values = getFundingForCounty(url, eventUrl, params, search_html)\n",
    "    return damage_values"
   ]
  },
  {
   "cell_type": "code",
   "execution_count": 15,
   "metadata": {},
   "outputs": [
    {
     "name": "stdout",
     "output_type": "stream",
     "text": [
      "Number of counties per state observed in NOAA.\n",
      "No results found\n",
      "-- All States and Areas --: 0\n",
      "Alabama: 68\n",
      "Alaska: 66\n",
      "Arizona: 16\n",
      "Arkansas: 76\n",
      "California: 59\n",
      "Colorado: 65\n",
      "Connecticut: 9\n",
      "Delaware: 4\n",
      "District Of Columbia: 2\n",
      "Florida: 68\n",
      "Georgia: 160\n",
      "Hawaii: 5\n",
      "Idaho: 45\n",
      "Illinois: 104\n",
      "Indiana: 93\n",
      "Iowa: 100\n",
      "Kansas: 107\n",
      "Kentucky: 121\n",
      "Louisiana: 65\n",
      "Maine: 17\n",
      "Maryland: 25\n",
      "Massachusetts: 15\n",
      "Michigan: 84\n",
      "Minnesota: 88\n",
      "Mississippi: 83\n",
      "Missouri: 117\n",
      "Montana: 57\n",
      "Nebraska: 94\n",
      "Nevada: 18\n",
      "New Hampshire: 11\n",
      "New Jersey: 22\n",
      "New Mexico: 35\n",
      "New York: 63\n",
      "North Carolina: 101\n",
      "North Dakota: 54\n",
      "Ohio: 89\n",
      "Oklahoma: 78\n",
      "Oregon: 37\n",
      "Pennsylvania: 68\n",
      "Rhode Island: 6\n",
      "South Carolina: 47\n",
      "South Dakota: 67\n",
      "Tennessee: 97\n",
      "Texas: 255\n",
      "Utah: 30\n",
      "Vermont: 15\n",
      "Virginia: 137\n",
      "Washington: 40\n",
      "West Virginia: 56\n",
      "Wisconsin: 73\n",
      "Wyoming: 24\n",
      "Lake St Clair: 1\n",
      "Hawaii Waters: 1\n",
      "Gulf Of Mexico: 1\n",
      "E Pacific: 1\n",
      "Atlantic South: 1\n",
      "Atlantic North: 1\n",
      "Gulf Of Alaska: 1\n",
      "Lake Huron: 1\n",
      "Lake Michigan: 1\n",
      "Lake Superior: 1\n",
      "St Lawrence R: 1\n",
      "Lake Ontario: 1\n",
      "Lake Erie: 1\n",
      "Virgin Islands: 1\n",
      "American Samoa: 1\n",
      "Guam: 1\n",
      "Puerto Rico: 1\n"
     ]
    }
   ],
   "source": [
    "state_county = getCountyList()"
   ]
  },
  {
   "cell_type": "code",
   "execution_count": 21,
   "metadata": {},
   "outputs": [],
   "source": [
    "year_state_county_damage = {}\n",
    "eventTypes = [\"(Z) High Surf\", \"(Z) Hurricane (Typhoon)\", \"(Z) High Wind\", \"(Z) Marine Strong Wind\", \n",
    "              \"(Z) Marine Thunderstorm Wind\", \"(Z) Coastal Flood\", \"(Z) Flood\", \"(Z) Storm Surge/Tide\", \n",
    "              \"(Z) Tropical Storm\", \"(Z) Tropical Depression\"]\n",
    "pevents = [{'eventType':eventTypes[0]},\n",
    "          {'eventType':eventTypes[1]},\n",
    "          {'eventType':eventTypes[2]},\n",
    "          {'eventType':eventTypes[3]},\n",
    "          {'eventType':eventTypes[4]},\n",
    "          {'eventType':eventTypes[5]},\n",
    "          {'eventType':eventTypes[6]},\n",
    "          {'eventType':eventTypes[7]},\n",
    "          {'eventType':eventTypes[8]},\n",
    "          {'eventType': eventTypes[9]}]\n",
    "urlevents = [urllib.parse.urlencode(p) for p in pevents]\n",
    "beginYearList = [2011] #[2005, 2008, 2010, 2011, 2012, 2016, 2017]"
   ]
  },
  {
   "cell_type": "code",
   "execution_count": 22,
   "metadata": {},
   "outputs": [
    {
     "name": "stdout",
     "output_type": "stream",
     "text": [
      "Alabama for year 2011 received:  170000.0\n",
      "Alaska for year 2011 received:  28849000.0\n",
      "Arizona for year 2011 received:  42000.0\n",
      "Arkansas for year 2011 received:  176073000.0\n",
      "California for year 2011 received:  34065000.0\n",
      "Colorado for year 2011 received:  2691000.0\n",
      "Connecticut for year 2011 received:  68213000.0\n",
      "Delaware for year 2011 received:  360000.0\n",
      "District Of Columbia for year 2011 received:  2406000.0\n",
      "Florida for year 2011 received:  59000.0\n",
      "Georgia for year 2011 received:  23000.0\n",
      "Hawaii for year 2011 received:  0.0\n",
      "Idaho for year 2011 received:  4165000.0\n",
      "Illinois for year 2011 received:  11650000.0\n",
      "Indiana for year 2011 received:  5919000.0\n",
      "Iowa for year 2011 received:  47952000.0\n",
      "Kansas for year 2011 received:  2697000.0\n",
      "Kentucky for year 2011 received:  42862000.0\n",
      "Louisiana for year 2011 received:  27528000.0\n",
      "Maine for year 2011 received:  107500.0\n",
      "Maryland for year 2011 received:  17121000.0\n",
      "Massachusetts for year 2011 received:  59720000.0\n",
      "Michigan for year 2011 received:  688500.0\n",
      "Minnesota for year 2011 received:  625000.0\n",
      "Mississippi for year 2011 received:  1012000000.0\n",
      "Missouri for year 2011 received:  22479000.0\n",
      "Montana for year 2011 received:  20667000.0\n",
      "Nebraska for year 2011 received:  13116000.0\n",
      "Nevada for year 2011 received:  448000.0\n",
      "New Hampshire for year 2011 received:  11222000.0\n",
      "New Jersey for year 2011 received:  822040000.0\n",
      "New Mexico for year 2011 received:  5072000.0\n",
      "New York for year 2011 received:  826379000.0\n",
      "North Carolina for year 2011 received:  405754000.0\n",
      "North Dakota for year 2011 received:  149980000.0\n",
      "Ohio for year 2011 received:  17825000.0\n",
      "Oklahoma for year 2011 received:  427200.0\n",
      "Oregon for year 2011 received:  20694000.0\n",
      "Pennsylvania for year 2011 received:  289318000.0\n",
      "Rhode Island for year 2011 received:  271000.0\n",
      "South Carolina for year 2011 received:  253000.0\n",
      "South Dakota for year 2011 received:  9924000.0\n",
      "Tennessee for year 2011 received:  2012000000.0\n",
      "Texas for year 2011 received:  25883000.0\n",
      "Utah for year 2011 received:  85417000.0\n",
      "Vermont for year 2011 received:  1061000000.0\n",
      "Virginia for year 2011 received:  25063000.0\n",
      "Washington for year 2011 received:  8499000.0\n",
      "West Virginia for year 2011 received:  1219000.0\n",
      "Wisconsin for year 2011 received:  283000.0\n",
      "Wyoming for year 2011 received:  3249000.0\n",
      "Lake St Clair for year 2011 received:  0.0\n",
      "Hawaii Waters for year 2011 received:  0.0\n",
      "Gulf Of Mexico for year 2011 received:  99000.0\n",
      "E Pacific for year 2011 received:  25000.0\n",
      "Atlantic South for year 2011 received:  50800.0\n",
      "Atlantic North for year 2011 received:  1000.0\n",
      "Gulf Of Alaska for year 2011 received:  0.0\n",
      "Lake Huron for year 2011 received:  0.0\n",
      "Lake Michigan for year 2011 received:  354700.0\n",
      "Lake Superior for year 2011 received:  0.0\n",
      "St Lawrence R for year 2011 received:  0.0\n",
      "Lake Ontario for year 2011 received:  0.0\n",
      "Lake Erie for year 2011 received:  0.0\n",
      "Virgin Islands for year 2011 received:  0.0\n",
      "American Samoa for year 2011 received:  0.0\n",
      "Guam for year 2011 received:  100000.0\n",
      "Puerto Rico for year 2011 received:  1054000.0\n"
     ]
    }
   ],
   "source": [
    "for year in beginYearList:\n",
    "    year_state_county_damage[year] = getCountyLevelFundingDataFromNOAA(eventUrl=urlevents, beginDate_yyyy=str(year), \n",
    "                                                                       endDate_yyyy=str(year))"
   ]
  },
  {
   "cell_type": "code",
   "execution_count": 23,
   "metadata": {},
   "outputs": [],
   "source": [
    "import numpy as np\n",
    "np.save('State_CountyDamages_2011.npy', year_state_county_damage)"
   ]
  },
  {
   "cell_type": "code",
   "execution_count": null,
   "metadata": {
    "collapsed": true
   },
   "outputs": [],
   "source": []
  }
 ],
 "metadata": {
  "kernelspec": {
   "display_name": "Python 3",
   "language": "python",
   "name": "python3"
  },
  "language_info": {
   "codemirror_mode": {
    "name": "ipython",
    "version": 3
   },
   "file_extension": ".py",
   "mimetype": "text/x-python",
   "name": "python",
   "nbconvert_exporter": "python",
   "pygments_lexer": "ipython3",
   "version": "3.6.3"
  }
 },
 "nbformat": 4,
 "nbformat_minor": 2
}
