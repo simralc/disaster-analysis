{
 "cells": [
  {
   "cell_type": "code",
   "execution_count": 1,
   "metadata": {},
   "outputs": [],
   "source": [
    "# setup library imports\n",
    "import io, time, json\n",
    "import requests\n",
    "from bs4 import BeautifulSoup\n",
    "import urllib\n",
    "from urllib import parse"
   ]
  },
  {
   "cell_type": "code",
   "execution_count": 24,
   "metadata": {},
   "outputs": [],
   "source": [
    "def retrieve_html(url, params = None):  \n",
    "    if params is None:\n",
    "        params = ''\n",
    "    response = requests.get(url + urllib.parse.urlencode(params))\n",
    "    return response.status_code, response.text"
   ]
  },
  {
   "cell_type": "code",
   "execution_count": 21,
   "metadata": {},
   "outputs": [],
   "source": [
    "def parse_page(html):\n",
    "    soup = BeautifulSoup(html, 'html.parser')\n",
    "    prd = soup.find(\"table\", id=\"results\")\n",
    "    if prd is None:\n",
    "        print('No results found')\n",
    "        return\n",
    "    prd = soup.find_all(\"tr\")\n",
    "#     print(prd[:2])\n",
    "    print(prd[8].find_all(\"td\")[-2].text)"
   ]
  },
  {
   "cell_type": "code",
   "execution_count": 16,
   "metadata": {
    "scrolled": true
   },
   "outputs": [],
   "source": [
    "url = \"https://www.ncdc.noaa.gov/stormevents/listevents.jsp?\"\n",
    "params = {'eventType': '(Z) Storm Surge/Tide',\n",
    "              'beginDate_mm': '01',\n",
    "              'beginDate_dd': '01',\n",
    "              'beginDate_yyyy': '2017',\n",
    "              'endDate_mm': '01',\n",
    "              'endDate_dd': '31',\n",
    "              'endDate_yyyy': '2018',\n",
    "              'county': 'ALL',\n",
    "              'sort': 'DT',\n",
    "              'submitbutton': 'Search',\n",
    "              'statefips': '48,TEXAS'}\n",
    "html_ = retrieve_html(url, params)[1]"
   ]
  },
  {
   "cell_type": "code",
   "execution_count": 18,
   "metadata": {
    "collapsed": true
   },
   "outputs": [
    {
     "data": {
      "text/plain": [
       "'\\n\\n\\n\\n\\n\\n\\n\\n\\n\\n\\n\\n\\n<!DOCTYPE html PUBLIC \"-//W3C//DTD XHTML 1.0 Transitional//EN\" \"http://www.w3.org/TR/xhtml1/DTD/xhtml1-transitional.dtd\">\\n<html xmlns=\"http://www.w3.org/1999/xhtml\">\\n<head>\\n<title>Storm Events Database - Search Results | National Centers for Environmental Information</title>\\n<meta http-equiv=\"Content-Type\" content=\"text/html;charset=utf-8\" />\\r\\n<meta name=\"Description\" content=\"The Storm Events Database contains records on various types of severe weather, as collected by NOAA\\'s National Weather Service (NWS).\" />\\r\\n<meta name=\"Keywords\" content=\"ncdc, noaa, nws, plsr, lsr, historical, tornado, hail, winds, casualities, fatalities\" />\\r\\n<meta name=\"author\" content=\"NCEI\" />\\r\\n<link rel=\"shortcut icon\" href=\"/stormevents/favicon.ico\" />\\r\\n\\r\\n<link rel=\"stylesheet\" type=\"text/css\" href=\"/stormevents/css/reset.css\" />\\r\\n<link rel=\"stylesheet\" type=\"text/css\" href=\"/stormevents/css/application.css\" />\\r\\n<link rel=\"stylesheet\" type=\"text/css\" href=\"/stormevents/css/stormevents.css\" />\\r\\n<link rel=\"stylesheet\" type=\"text/css\" href=\"/stormevents/css/print.css\" media=\"print\" />\\r\\n\\n\\n</head>\\n<body>\\n\\n<div id=\"background\">\\n\\n\\t<div id=\"wrap\">\\n\\t\\t<div id=\"main\">\\n\\n<div id=\"header\">\\n\\t<div class=\"inset\">\\n\\t\\t<div class=\"title\"><a href=\"/\" title=\"National Centers for Environmental Information\">National Centers for Environmental Information<span></span></a></div>\\n\\t\\t<a href=\"http://www.commerce.gov\" id=\"headDOC\" title=\"Click to visit the U.S. Department of Commerce Website\"></a>\\n\\t</div>\\n</div>\\n\\n\\n<div id=\"nav\">\\n\\t<ul class=\"topLinks\">\\n\\t\\t<li><a href=\"/\">Home</a></li>\\n\\t\\t<li><a href=\"http://www.ncdc.noaa.gov/customer-support\">Contact Us</a></li>\\n\\t\\t<li><a href=\"http://www.ncdc.noaa.gov/about\">About NCEI</a></li>\\n\\t\\t<li><a href=\"http://www.ncdc.noaa.gov/customer-support\">Help</a></li>\\n\\t</ul>\\n\\t<div class=\"clear\"></div>\\n</div>\\n<!-- /Header -->\\n\\n\\t\\t\\t<!-- Main Content Area -->\\n\\t\\t\\t<div id=\"content\">\\n\\n\\n\\n\\n\\t<!-- Must remain outside of \"pad\" div -->\\n\\t<div id=\"crumbs\">\\n \\n\\t\\t<a href=\"/\">NCEI</a> &gt; <a href=\"/stormevents/\" >Storm Events Database (Select State)</a>\\n\\t\\t &gt; <a href=\"/stormevents/choosedates.jsp?statefips=48,TEXAS\" >(Select Date/County/Event)</a>\\n\\n\\t</div>\\n\\t<!-- / -->\\n\\t<div class=\"pad\">\\n\\t\\t\\t\\n\\t\\t<div class=\"col-2-left-220\">\\t\\t\\t\\t\\t\\t\\n\\t\\t\\t<div class=\"boxblock\">\\n        <div class=\"header\"><h4>Storm Events Database</h4></div>\\n        <div class=\"pad\">\\n                <ul>\\n                        <li class=\"subheader\">Data Access</li>\\n\\n                        <li><a href=\"/stormevents/\">Search</a></li>\\n                        <li><a href=\"/stormevents/ftp.jsp\"> Bulk Data Download (CSV) </a></li>\\n                        <li><a href=\"https://www.ncdc.noaa.gov/IPS/sd/sd.html\"> Storm Data Publication </a></li>\\n                        <li class=\"subheader\">Documentation</li>\\n                        <li><a href=\"/stormevents/details.jsp\"> Database Details </a></li>\\n                        <li><a href=\"/stormevents/versions.jsp\"> Version History </a></li>\\n                        <li><a href=\"/stormevents/faq.jsp\"> Storm Data FAQ </a></li>\\n                        <li><a href=\"http://www.nws.noaa.gov/directives/sym/pd01016005curr.pdf\"> NOAA\\'s NWS Documentation </a></li>\\n                        <li><a href=\"http://www.spc.noaa.gov/efscale\">Tornado EF Scale</a></li>\\n                        <li class=\"subheader\">External Resources</li>\\n                        <li><a href=\"http://www.spc.noaa.gov/climo\">NOAA\\'s SPC Reports</a></li>\\n                        <li><a href=\"http://www.spc.noaa.gov/wcm/index.html\">NOAA\\'s SPC WCM Page</a></li>\\n                        <li><a href=\"http://apps.dat.noaa.gov/stormdamage/damageviewer/\">NOAA\\'s NWS Damage Assessment Toolkit</a></li>\\n                        <li><a onclick=\"alert(\\'You are exiting the NCEI website.\\\\n\\\\nThank you for visiting our site. We have provided a link because it has information that may interest you. NCEI does not endorse the views expressed, the information presented, or any commercial products that may be advertised or available on that site.\\')\" \\n                        \\thref=\"https://www.arcgis.com/home/item.html?id=990b93d2522441a48bf2aaf536518419\">ESRI/FEMA Civil Air Patrol Images</a></li>                        \\n                        <li><a onclick=\"alert(\\'You are exiting the NCEI website.\\\\n\\\\nThank you for visiting our site. We have provided a link because it has information that may interest you. NCEI does not endorse the views expressed, the information presented, or any commercial products that may be advertised or available on that site.\\')\" \\n                        \\thref=\"http://www.sheldus.org\">SHELDUS</a></li>\\n                        <li><a onclick=\"alert(\\'You are exiting the NCEI website.\\\\n\\\\nThank you for visiting our site. We have provided a link because it has information that may interest you. NCEI does not endorse the views expressed, the information presented, or any commercial products that may be advertised or available on that site.\\')\" \\n                        \\thref=\"http://www.rma.usda.gov/data/cause.html\">USDA Cause of Loss Data </a></li>\\n\\n                </ul>\\n\\n        </div>\\n</div>\\n\\n\\n\\t\\t\\t<br/>\\n\\t\\t\\t\\n\\t\\t\\t<b>Data Export:</b> (current results) <br/>\\n\\t\\t\\t\\n\\t\\t\\t<a href=\"csv?eventType=%28Z%29+Storm+Surge%2FTide&beginDate_mm=01&beginDate_dd=01&beginDate_yyyy=2017&endDate_mm=01&endDate_dd=31&endDate_yyyy=2018&county=ALL&sort=DT&submitbutton=Search&statefips=48%2CTEXAS\"> <img src=\"images/icons/csv.jpg\" width=\"40px\" height=\"40px\"/> </a>\\n\\t\\t\\t\\n\\t\\t</div>\\n\\t\\t\\t\\t\\t\\t\\t\\t\\n\\t\\t<div class=\"col-2-right-700\"> \\n<h1>Storm Events Database</h1> \\n<h4>Search Results for All Counties in Texas</h4> \\n<h6>Event Types: <font color=\"#330099\">Storm Surge/Tide</font></h6>\\n7 events were reported between \\n01/01/2017 and 01/31/2018 (396 days) \\n<br/><br/> \\n<b>Summary Info:</b><br/> \\n<table width=\"70%\" border=\"1\"> \\n<tr><td>Number of County/Zone areas affected: </td><td>6 </td></tr> \\n<tr><td>Number of Days with Event: </td><td>3 </td></tr> \\n<tr><td>Number of Days with Event and Death: </td><td>0 </td></tr> \\n<tr><td>Number of Days with Event and Death or Injury: </td><td> 0 </td></tr> \\n<tr><td>Number of Days with Event and Property Damage: </td><td>1 </td></tr> \\n<tr><td>Number of Days with Event and Crop Damage: </td><td>0 </td></tr> \\n<tr><td>Number of Event Types reported: </td><td>1 </td></tr> \\n</table>\\t\\n\\n<br/> \\n<b>Column Definitions: </b> <br/> \\n\\'Mag\\': Magnitude, \\'Dth\\': Deaths, \\'Inj\\': Injuries, \\'PrD\\': Property Damage, \\'CrD\\': Crop Damage <br/> \\n<br/> \\n\\n\\n<i>Click on <b>Location</b> below to display details.  <br/>Available Event Types have changed over time.  Please refer to the <a href=\"details.jsp\">Database Details</a> for more information.</i> \\n<br/> \\n</div> \\n\\n<form method=\"get\" name=\"selectform\" action=\"listevents.jsp\"> \\n<div> \\n<span style=\"float: right; \"> \\n<div style=\"width:100%; margin:3px; float:right; text-align:right;\"> \\nSort By: \\n<select name=\"sort\" style=\"width: auto;\" onchange=\"this.form.submit()\"> \\n  <option value=\"DT\">Date/Time (Oldest)</option> \\n  <option value=\"DN\">Date/Time (Newest)</option> \\n  <option value=\"DI\">Death/Injury</option> \\n  <option value=\"PD\">Property Damage</option> \\n  <option value=\"CD\">Crop Damage</option> \\n</select> \\n</div> \\n\\n</span> \\n</div> \\n\\n<input type=\"hidden\" name=\"statefips\" value=\"48,TEXAS\" /> \\n<input type=\"hidden\" name=\"county\" value=\"ALL\" /> \\n<input type=\"hidden\" name=\"eventType\" value=\"(Z) Storm Surge/Tide\" /> \\n<input type=\"hidden\" name=\"beginDate_yyyy\" value=\"2017\" /> \\n<input type=\"hidden\" name=\"beginDate_mm\" value=\"01\" /> \\n<input type=\"hidden\" name=\"beginDate_dd\" value=\"01\" /> \\n<input type=\"hidden\" name=\"endDate_yyyy\" value=\"2018\" /> \\n<input type=\"hidden\" name=\"endDate_mm\" value=\"01\" /> \\n<input type=\"hidden\" name=\"endDate_dd\" value=\"31\" /> \\n</form> \\n<table id=\"results\" border=\"1\" width=\"100%\">\\n<tr><th><a href=\"#\" title=\"Nearest Town, \\'Countywide\\' or Zone Name\">Location</a></th>\\n<th><a href=\"#\" title=\"County, Parish or Zone\">County/Zone</a></th>\\n<th><a href=\"#\" title=\"State\">St.</a></th>\\n<th><a href=\"#\" title=\"Date of Event\">Date</a></th>\\n<th><a href=\"#\" title=\"Time of Event (Local Time)\">Time</a></th>\\n<th><a href=\"#\" title=\"Time Zone\">T.Z.</a></th>\\n<th><a href=\"#\" title=\"Event Type\">Type</a></th>\\n<th><a href=\"#\" title=\"Magnitude of Event, where applicable\">Mag</a></th>\\n<th><a href=\"#\" title=\"Direct Deaths from the Event\">Dth</a></th>\\n<th><a href=\"#\" title=\"Direct Injuries from the Event\">Inj</a></th>\\n<th><a href=\"#\" title=\"Property Damage Estimate\">PrD</a></th>\\n<th><a href=\"#\" title=\"Crop Damage Estimate\">CrD</a></th></tr>\\n<tr><td><b>Totals:</b></td>\\n<td> </td>\\n<td> </td>\\n<td> </td>\\n<td> </td>\\n<td> </td>\\n<td> </td>\\n<td> </td>\\n<td>0</td>\\n<td>0</td>\\n<td>532.020M</td>\\n<td>0.00K</td></tr>\\n  <tr> \\n    <td><a href=\"eventdetails.jsp?id=708944 \">JEFFERSON (ZONE)</a></td> \\n    <td>JEFFERSON (ZONE)</td> \\n    <td>TX</td> \\n    <td>06/21/2017</td> \\n    <td>    01:10</td> \\n    <td>CST-6</td> \\n    <td>Storm Surge/tide</td> \\n    <td></td> \\n    <td>0</td> \\n    <td>0</td> \\n    <td>0.00K</td> \\n    <td>0.00K</td> \\n  </tr> \\n  <tr> \\n    <td><a href=\"eventdetails.jsp?id=718740 \">ARANSAS (ZONE)</a></td> \\n    <td>ARANSAS (ZONE)</td> \\n    <td>TX</td> \\n    <td>08/25/2017</td> \\n    <td>    15:00</td> \\n    <td>CST-6</td> \\n    <td>Storm Surge/tide</td> \\n    <td></td> \\n    <td>0</td> \\n    <td>0</td> \\n    <td>200.000M</td> \\n    <td>0.00K</td> \\n  </tr> \\n  <tr> \\n    <td><a href=\"eventdetails.jsp?id=720932 \">CALHOUN (ZONE)</a></td> \\n    <td>CALHOUN (ZONE)</td> \\n    <td>TX</td> \\n    <td>08/25/2017</td> \\n    <td>    15:00</td> \\n    <td>CST-6</td> \\n    <td>Storm Surge/tide</td> \\n    <td></td> \\n    <td>0</td> \\n    <td>0</td> \\n    <td>30.000M</td> \\n    <td>0.00K</td> \\n  </tr> \\n  <tr> \\n    <td><a href=\"eventdetails.jsp?id=720926 \">NUECES (ZONE)</a></td> \\n    <td>NUECES (ZONE)</td> \\n    <td>TX</td> \\n    <td>08/25/2017</td> \\n    <td>    15:00</td> \\n    <td>CST-6</td> \\n    <td>Storm Surge/tide</td> \\n    <td></td> \\n    <td>0</td> \\n    <td>0</td> \\n    <td>300.000M</td> \\n    <td>0.00K</td> \\n  </tr> \\n  <tr> \\n    <td><a href=\"eventdetails.jsp?id=720924 \">SAN PATRICIO (ZONE)</a></td> \\n    <td>SAN PATRICIO (ZONE)</td> \\n    <td>TX</td> \\n    <td>08/25/2017</td> \\n    <td>    18:00</td> \\n    <td>CST-6</td> \\n    <td>Storm Surge/tide</td> \\n    <td></td> \\n    <td>0</td> \\n    <td>0</td> \\n    <td>2.000M</td> \\n    <td>0.00K</td> \\n  </tr> \\n  <tr> \\n    <td><a href=\"eventdetails.jsp?id=720983 \">REFUGIO (ZONE)</a></td> \\n    <td>REFUGIO (ZONE)</td> \\n    <td>TX</td> \\n    <td>08/25/2017</td> \\n    <td>    21:00</td> \\n    <td>CST-6</td> \\n    <td>Storm Surge/tide</td> \\n    <td></td> \\n    <td>0</td> \\n    <td>0</td> \\n    <td>20.00K</td> \\n    <td>0.00K</td> \\n  </tr> \\n  <tr> \\n    <td><a href=\"eventdetails.jsp?id=719334 \">JEFFERSON (ZONE)</a></td> \\n    <td>JEFFERSON (ZONE)</td> \\n    <td>TX</td> \\n    <td>08/27/2017</td> \\n    <td>    20:30</td> \\n    <td>CST-6</td> \\n    <td>Storm Surge/tide</td> \\n    <td></td> \\n    <td>0</td> \\n    <td>0</td> \\n    <td>0.00K</td> \\n    <td>0.00K</td> \\n  </tr> \\n<tr><td><b>Totals:</b></td>\\n<td> </td>\\n<td> </td>\\n<td> </td>\\n<td> </td>\\n<td> </td>\\n<td> </td>\\n<td> </td>\\n<td>0</td>\\n<td>0</td>\\n<td>532.020M</td>\\n<td>0.00K</td></tr>\\n</table>\\n\\t\\n\\t\\t\\t\\t\\n\\t\\t\\n\\t\\t\\t<div class=\"clear\"></div>\\n\\n\\t</div><!-- /pad -->\\n\\n\\n\\n                  </div><!-- /content -->\\n\\t\\t</div><!-- /main -->\\n\\n\\t\\t\\n\\n<div id=\"footer\">\\n\\t<div class=\"links\"><a href=\"http://www.noaa.gov/privacy.html\" title=\"Privacy Policy\">Privacy Policy</a> | \\n\\t<a href=\"http://www.rdc.noaa.gov/%7Efoia/\" title=\"FOIA\">FOIA</a> | \\n\\t<a href=\"http://www.cio.noaa.gov/services_programs/info_quality.html\" title=\"Information Quality\">Information Quality</a> | \\n\\t<a href=\"http://www.noaa.gov/disclaimer.html\" title=\"Disclaimer\">Disclaimer</a> | \\n\\t<a href=\"http://www.ncdc.noaa.gov/customer-support\" title=\"Customer Support\">Contact Us</a></div>\\n\\n\\t<div class=\"subfooter\">\\n\\t\\t<a href=\"http://www.commerce.gov/\"><img src=\"/stormevents/images/logos/logo_doc.png\" alt=\"Department of Commerce\" title=\"Department of Commerce\" /></a>\\n\\t\\t<a href=\"http://www.usa.gov\"><img src=\"/stormevents/images/logos/logo_usagov.png\" alt=\"USA.gov\" title=\"USA.gov\" /></a>\\n\\t\\t<a href=\"http://www.ready.gov\"><img src=\"/stormevents/images/logos/logo_ready.png\" alt=\"Ready.gov\" title=\"Ready.gov\" /></a>\\n\\t</div><!-- /subfooter -->\\n\\n</div><!-- /footer -->\\n\\n\\t</div><!-- /wrap -->\\n\\n</div><!-- /background -->\\n\\n\\n\\n\\n<script type=\"text/javascript\">\\n  (function(i,s,o,g,r,a,m){i[\\'GoogleAnalyticsObject\\']=r;i[r]=i[r]||function(){\\n  (i[r].q=i[r].q||[]).push(arguments)},i[r].l=1*new Date();a=s.createElement(o),\\n  m=s.getElementsByTagName(o)[0];a.async=1;a.src=g;m.parentNode.insertBefore(a,m)\\n  })(window,document,\\'script\\',\\'//www.google-analytics.com/analytics.js\\',\\'ga\\');\\n\\n  ga(\\'create\\', \\'UA-42795060-3\\', \\'noaa.gov\\');\\n  ga(\\'set\\', \\'anonymizeIp\\', true);\\n  ga(\\'send\\', \\'pageview\\');\\n</script>\\n\\n\\n\\n\\n\\n\\n<script id=\"_fed_an_ua_tag\" type=\"text/javascript\" src=\"/scripts/federated-analytics.js?agency=DOC%26subagency=NOAA\"></script></body>\\n</html>'"
      ]
     },
     "execution_count": 18,
     "metadata": {},
     "output_type": "execute_result"
    }
   ],
   "source": [
    "html_"
   ]
  },
  {
   "cell_type": "code",
   "execution_count": 17,
   "metadata": {},
   "outputs": [
    {
     "name": "stdout",
     "output_type": "stream",
     "text": [
      "{}\n"
     ]
    }
   ],
   "source": [
    "print(urllib.parse.parse_qs(url))"
   ]
  },
  {
   "cell_type": "code",
   "execution_count": 22,
   "metadata": {},
   "outputs": [
    {
     "name": "stdout",
     "output_type": "stream",
     "text": [
      "532.020M\n"
     ]
    }
   ],
   "source": [
    "parse_page(html_)"
   ]
  },
  {
   "cell_type": "code",
   "execution_count": 25,
   "metadata": {},
   "outputs": [],
   "source": [
    "searchUrl = \"https://www.ncdc.noaa.gov/stormevents/choosedates.jsp?statefips=-999%2CALL\"\n",
    "search_html = retrieve_html(searchUrl)[1]"
   ]
  },
  {
   "cell_type": "code",
   "execution_count": 26,
   "metadata": {},
   "outputs": [],
   "source": [
    "def get_all_states(html):\n",
    "    soup = BeautifulSoup(html, 'html.parser')\n",
    "    states = soup.find(\"select\", id=\"statefips\").find_all(\"option\")\n",
    "    states_text = [t.text for t in states]\n",
    "    states_values = [t['value'] for t in states]\n",
    "#     print(states_text)\n",
    "#     print(states_values)\n",
    "    return states_values"
   ]
  },
  {
   "cell_type": "code",
   "execution_count": 27,
   "metadata": {},
   "outputs": [
    {
     "data": {
      "text/plain": [
       "['-999,ALL',\n",
       " '1,ALABAMA',\n",
       " '2,ALASKA',\n",
       " '4,ARIZONA',\n",
       " '5,ARKANSAS',\n",
       " '6,CALIFORNIA',\n",
       " '8,COLORADO',\n",
       " '9,CONNECTICUT',\n",
       " '10,DELAWARE',\n",
       " '11,DISTRICT OF COLUMBIA',\n",
       " '12,FLORIDA',\n",
       " '13,GEORGIA',\n",
       " '15,HAWAII',\n",
       " '16,IDAHO',\n",
       " '17,ILLINOIS',\n",
       " '18,INDIANA',\n",
       " '19,IOWA',\n",
       " '20,KANSAS',\n",
       " '21,KENTUCKY',\n",
       " '22,LOUISIANA',\n",
       " '23,MAINE',\n",
       " '24,MARYLAND',\n",
       " '25,MASSACHUSETTS',\n",
       " '26,MICHIGAN',\n",
       " '27,MINNESOTA',\n",
       " '28,MISSISSIPPI',\n",
       " '29,MISSOURI',\n",
       " '30,MONTANA',\n",
       " '31,NEBRASKA',\n",
       " '32,NEVADA',\n",
       " '33,NEW HAMPSHIRE',\n",
       " '34,NEW JERSEY',\n",
       " '35,NEW MEXICO',\n",
       " '36,NEW YORK',\n",
       " '37,NORTH CAROLINA',\n",
       " '38,NORTH DAKOTA',\n",
       " '39,OHIO',\n",
       " '40,OKLAHOMA',\n",
       " '41,OREGON',\n",
       " '42,PENNSYLVANIA',\n",
       " '44,RHODE ISLAND',\n",
       " '45,SOUTH CAROLINA',\n",
       " '46,SOUTH DAKOTA',\n",
       " '47,TENNESSEE',\n",
       " '48,TEXAS',\n",
       " '49,UTAH',\n",
       " '50,VERMONT',\n",
       " '51,VIRGINIA',\n",
       " '53,WASHINGTON',\n",
       " '54,WEST VIRGINIA',\n",
       " '55,WISCONSIN',\n",
       " '56,WYOMING',\n",
       " '81,LAKE ST CLAIR',\n",
       " '84,HAWAII WATERS',\n",
       " '85,GULF OF MEXICO',\n",
       " '86,E PACIFIC',\n",
       " '87,ATLANTIC SOUTH',\n",
       " '88,ATLANTIC NORTH',\n",
       " '89,GULF OF ALASKA',\n",
       " '90,LAKE HURON',\n",
       " '91,LAKE MICHIGAN',\n",
       " '92,LAKE SUPERIOR',\n",
       " '93,ST LAWRENCE R',\n",
       " '94,LAKE ONTARIO',\n",
       " '95,LAKE ERIE',\n",
       " '96,VIRGIN ISLANDS',\n",
       " '97,AMERICAN SAMOA',\n",
       " '98,GUAM',\n",
       " '99,PUERTO RICO']"
      ]
     },
     "execution_count": 27,
     "metadata": {},
     "output_type": "execute_result"
    }
   ],
   "source": [
    "get_all_states(search_html)"
   ]
  },
  {
   "cell_type": "code",
   "execution_count": 28,
   "metadata": {},
   "outputs": [
    {
     "name": "stdout",
     "output_type": "stream",
     "text": [
      "566.157M\n",
      "20.00K\n",
      "0.00K\n",
      "0.00K\n",
      "0.00K\n",
      "0.00K\n",
      "0.00K\n",
      "0.00K\n",
      "0.00K\n",
      "0.00K\n",
      "20.250M\n",
      "13.867M\n",
      "0.00K\n",
      "0.00K\n",
      "0.00K\n",
      "0.00K\n",
      "0.00K\n",
      "0.00K\n",
      "0.00K\n",
      "0.00K\n",
      "0.00K\n",
      "0.00K\n",
      "0.00K\n",
      "0.00K\n",
      "0.00K\n",
      "0.00K\n",
      "0.00K\n",
      "0.00K\n",
      "0.00K\n",
      "0.00K\n",
      "0.00K\n",
      "0.00K\n",
      "0.00K\n",
      "0.00K\n",
      "0.00K\n",
      "0.00K\n",
      "0.00K\n",
      "0.00K\n",
      "0.00K\n",
      "0.00K\n",
      "0.00K\n",
      "0.00K\n",
      "0.00K\n",
      "0.00K\n",
      "532.020M\n",
      "0.00K\n",
      "0.00K\n",
      "0.00K\n",
      "0.00K\n",
      "0.00K\n",
      "0.00K\n",
      "0.00K\n",
      "0.00K\n",
      "0.00K\n",
      "0.00K\n",
      "0.00K\n",
      "0.00K\n",
      "0.00K\n",
      "0.00K\n",
      "0.00K\n",
      "0.00K\n",
      "0.00K\n",
      "0.00K\n",
      "0.00K\n",
      "0.00K\n",
      "0.00K\n",
      "0.00K\n",
      "0.00K\n",
      "0.00K\n"
     ]
    }
   ],
   "source": [
    "for state in get_all_states(search_html):\n",
    "    params['statefips'] = state\n",
    "    state_damage_page = retrieve_html(url, params)[1]\n",
    "    state_damage_page = parse_page(state_damage_page)"
   ]
  },
  {
   "cell_type": "code",
   "execution_count": 136,
   "metadata": {},
   "outputs": [
    {
     "name": "stdout",
     "output_type": "stream",
     "text": [
      "532.020M\n"
     ]
    }
   ],
   "source": [
    "params['statefips'] = '48,TEXAS'\n",
    "state_damage_page = retrieve_html(url, params)[1]\n",
    "# print(state_damage_page)\n",
    "state_damage_page = parse_page(state_damage_page)"
   ]
  },
  {
   "cell_type": "code",
   "execution_count": 123,
   "metadata": {},
   "outputs": [
    {
     "name": "stdout",
     "output_type": "stream",
     "text": [
      "https://www.ncdc.noaa.gov/stormevents/listevents.jsp?\n",
      "{'eventType': '(Z) Storm Surge/Tide', 'beginDate_mm': '01', 'beginDate_dd': '01', 'beginDate_yyyy': '2017', 'endDate_mm': '01', 'endDate_dd': '31', 'endDate_yyyy': '2018', 'county': 'ALL', 'sort': 'DT', 'submitbutton': 'Search', 'statefips': '48,TEXAS'}\n"
     ]
    }
   ],
   "source": [
    "print(url)\n",
    "print(params)"
   ]
  },
  {
   "cell_type": "code",
   "execution_count": null,
   "metadata": {},
   "outputs": [],
   "source": []
  }
 ],
 "metadata": {
  "kernelspec": {
   "display_name": "Python 3",
   "language": "python",
   "name": "python3"
  },
  "language_info": {
   "codemirror_mode": {
    "name": "ipython",
    "version": 3
   },
   "file_extension": ".py",
   "mimetype": "text/x-python",
   "name": "python",
   "nbconvert_exporter": "python",
   "pygments_lexer": "ipython3",
   "version": "3.6.4"
  }
 },
 "nbformat": 4,
 "nbformat_minor": 2
}
