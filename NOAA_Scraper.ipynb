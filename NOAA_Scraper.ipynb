{
 "cells": [
  {
   "cell_type": "code",
   "execution_count": 1,
   "metadata": {
    "collapsed": true
   },
   "outputs": [],
   "source": [
    "import io, time, json\n",
    "import requests\n",
    "from bs4 import BeautifulSoup\n",
    "import urllib\n",
    "from urllib import parse\n",
    "import time\n",
    "import pandas as pd"
   ]
  },
  {
   "cell_type": "code",
   "execution_count": 32,
   "metadata": {
    "collapsed": true
   },
   "outputs": [],
   "source": [
    "def retrieve_html(url, params = None):  \n",
    "    if params is None:\n",
    "        params = ''\n",
    "    response = requests.get(url + urllib.parse.urlencode(params))\n",
    "    return response.status_code, response.text"
   ]
  },
  {
   "cell_type": "code",
   "execution_count": 33,
   "metadata": {
    "collapsed": true
   },
   "outputs": [],
   "source": [
    "def retrieve_County_html(url, urlevents = None, params = None):  \n",
    "    if params is None:\n",
    "        params = ''\n",
    "    nexturl = url + '&'.join(urlevents) + '&' + urllib.parse.urlencode(params)\n",
    "    response = requests.get(nexturl)\n",
    "    return response.status_code, response.text"
   ]
  },
  {
   "cell_type": "code",
   "execution_count": 34,
   "metadata": {
    "collapsed": true
   },
   "outputs": [],
   "source": [
    "def parse_page(html):\n",
    "    soup = BeautifulSoup(html, 'html.parser')\n",
    "    prd = soup.find(\"table\", id=\"results\")\n",
    "    if prd is None:\n",
    "        print('No results found')\n",
    "        return\n",
    "    prd = soup.find_all(\"tr\")\n",
    "    fund_val = prd[8].find_all(\"td\")[-2].text\n",
    "    return fund_val"
   ]
  },
  {
   "cell_type": "code",
   "execution_count": 35,
   "metadata": {
    "collapsed": true
   },
   "outputs": [],
   "source": [
    "def get_all_states(html):\n",
    "    soup = BeautifulSoup(html, 'html.parser')\n",
    "    states = soup.find(\"select\", id=\"statefips\").find_all(\"option\")\n",
    "    states_text = [t.text for t in states]\n",
    "    states_values = [t['value'] for t in states]\n",
    "    return zip(states_values, states_text)"
   ]
  },
  {
   "cell_type": "code",
   "execution_count": 36,
   "metadata": {
    "collapsed": true
   },
   "outputs": [],
   "source": [
    "def getFundingForQuery(url, params, search_html):\n",
    "    state_list = get_all_states(search_html)\n",
    "    state_damage_vals = []\n",
    "    for state_value, state_text in state_list:\n",
    "        params['statefips'] = state_value\n",
    "        state_damage_page = retrieve_html(url, params)[1]\n",
    "        state_damage_vals.append(parse_page(state_damage_page))\n",
    "    return state_damage_vals"
   ]
  },
  {
   "cell_type": "code",
   "execution_count": 37,
   "metadata": {
    "collapsed": true
   },
   "outputs": [],
   "source": [
    "def getFundingDataFromNOAA(eventType='(Z) Storm Surge/Tide', beginDate_mm='01', beginDate_dd='01', \n",
    "                           beginDate_yyyy='2017', endDate_mm='01', endDate_dd='31', endDate_yyyy='2018', \n",
    "                           county='ALL', statefips='48,TEXAS'):\n",
    "    url = \"https://www.ncdc.noaa.gov/stormevents/listevents.jsp?\"\n",
    "    params = {'eventType': eventType,\n",
    "                  'beginDate_mm': beginDate_mm,\n",
    "                  'beginDate_dd': beginDate_dd,\n",
    "                  'beginDate_yyyy': beginDate_yyyy,\n",
    "                  'endDate_mm': endDate_mm,\n",
    "                  'endDate_dd': endDate_dd,\n",
    "                  'endDate_yyyy': endDate_yyyy,\n",
    "                  'county': county,\n",
    "                  'sort': 'DT',\n",
    "                  'submitbutton': 'Search',\n",
    "                  'statefips': statefips}\n",
    "    \n",
    "    searchUrl = \"https://www.ncdc.noaa.gov/stormevents/choosedates.jsp?statefips=-999%2CALL\"\n",
    "    search_html = retrieve_html(searchUrl)[1]\n",
    "    damage_values = getFundingForQuery(url, params, search_html)\n",
    "    return damage_values"
   ]
  },
  {
   "cell_type": "code",
   "execution_count": 38,
   "metadata": {
    "collapsed": true
   },
   "outputs": [],
   "source": [
    "# Get list of all county's corresponding to the states\n",
    "def parse_county_page(html):\n",
    "    soup = BeautifulSoup(html, 'html.parser')\n",
    "    prd = soup.find('select', attrs={'name':'county'})\n",
    "    if prd is None:\n",
    "        print('No results found')\n",
    "        return\n",
    "    prd = prd.find_all(\"option\")\n",
    "    return prd"
   ]
  },
  {
   "cell_type": "code",
   "execution_count": 39,
   "metadata": {
    "collapsed": true,
    "scrolled": true
   },
   "outputs": [],
   "source": [
    "def getCountyList():\n",
    "    searchUrl = \"https://www.ncdc.noaa.gov/stormevents/choosedates.jsp?\"\n",
    "    search_html = retrieve_html(searchUrl + 'statefips=-999%2CALL')[1]\n",
    "    state_county = {}\n",
    "\n",
    "    print('Number of counties per state observed in NOAA.')\n",
    "    for state_value, state_text in get_all_states(search_html):\n",
    "        state_county[state_text] = []\n",
    "        params = {'statefips': state_value}\n",
    "        search_html = retrieve_html(searchUrl, params=params)[1]\n",
    "        county_list = parse_county_page(search_html)\n",
    "        if county_list is not None:\n",
    "            state_county[state_text] = [(i['value'], i.text) for i in county_list if i is not None]        \n",
    "        print('{}: {}'.format(state_text, len(state_county[state_text])))\n",
    "    \n",
    "    return state_county"
   ]
  },
  {
   "cell_type": "code",
   "execution_count": 30,
   "metadata": {},
   "outputs": [],
   "source": [
    "def test(beginDate_mm='01', beginDate_dd='01', \n",
    "       beginDate_yyyy='2017', endDate_mm='12', endDate_dd='31', endDate_yyyy='2017', \n",
    "       county='ALL', statefips='48,CTEXAS'):\n",
    "    url = \"https://www.ncdc.noaa.gov/stormevents/listevents.jsp?\"\n",
    "    eventTypes = [\"(Z) High Surf\", \"(Z) Hurricane (Typhoon)\", \"(Z) High Wind\", \"(Z) Marine Strong Wind\", \n",
    "                  \"(Z) Marine Thunderstorm Wind\", \"(Z) Coastal Flood\", \"(Z) Flood\", \"(Z) Storm Surge/Tide\", \n",
    "                  \"(Z) Tropical Storm\", \"(Z) Tropical Depression\"]\n",
    "    params = {'beginDate_mm': beginDate_mm,\n",
    "              'beginDate_dd': beginDate_dd,\n",
    "              'beginDate_yyyy': beginDate_yyyy,\n",
    "              'endDate_mm': endDate_mm,\n",
    "              'endDate_dd': endDate_dd,\n",
    "              'endDate_yyyy': endDate_yyyy,\n",
    "              'county': county,\n",
    "              'sort': 'DT',\n",
    "              'submitbutton': 'Search',\n",
    "              'statefips': statefips}\n",
    "    pevents = [{'eventType':eventTypes[0]},\n",
    "          {'eventType':eventTypes[1]},\n",
    "          {'eventType':eventTypes[2]},\n",
    "          {'eventType':eventTypes[3]},\n",
    "          {'eventType':eventTypes[4]},\n",
    "          {'eventType':eventTypes[5]},\n",
    "          {'eventType':eventTypes[6]},\n",
    "          {'eventType':eventTypes[7]},\n",
    "          {'eventType':eventTypes[8]},\n",
    "          {'eventType': eventTypes[9]}]\n",
    "    urlevents = [urllib.parse.urlencode(p) for p in pevents]\n",
    "    nexturl = url + '&'.join(urlevents) + '&' + urllib.parse.urlencode(params)\n"
   ]
  },
  {
   "cell_type": "code",
   "execution_count": 45,
   "metadata": {
    "collapsed": true
   },
   "outputs": [],
   "source": [
    "#Now we have the dictionary of states and their countys. Lets extract all data for given state and county\n",
    "def getNumber(string):\n",
    "    val = 1\n",
    "    if string.endswith('K'):\n",
    "        val = 1e3\n",
    "    elif string.endswith('M'):\n",
    "        val = 1e6\n",
    "    elif string.endswith('B'):\n",
    "        val = 1e9\n",
    "    return round(float(string[:-1])*val, 4)\n",
    "    \n",
    "def getFundingForCounty(url, eventUrl, params, search_html):\n",
    "    \n",
    "    state_list = get_all_states(search_html)\n",
    "    state_county_damage_val = {}\n",
    "    for state_value, state_text in state_list:\n",
    "        params['statefips'] = state_value\n",
    "        state_county_damage_val[state_text] = {}\n",
    "        for county_value, county_text in state_county[state_text]:\n",
    "            params['county'] = county_value\n",
    "            code, state_damage_page = retrieve_County_html(url, eventUrl, params)\n",
    "            if code != 200:\n",
    "                print('Could not find %s, %s' %(county_text, state_text))\n",
    "                continue\n",
    "            val = getNumber(parse_page(state_damage_page))\n",
    "            state_county_damage_val[state_text][county_text] = val\n",
    "            time.sleep(0.5)\n",
    "        if state_county_damage_val[state_text]:\n",
    "            print(state_text, 'for year', params['beginDate_yyyy'], 'received: ',\n",
    "                  state_county_damage_val[state_text]['-- All --'])\n",
    "            print(state_county_damage_val[state_text])\n",
    "    return state_county_damage_val\n",
    "\n",
    "def getCountyLevelFundingDataFromNOAA(eventUrl = '', beginDate_mm='01', beginDate_dd='01', \n",
    "                           beginDate_yyyy='2017', endDate_mm='12', endDate_dd='31', endDate_yyyy='2018', \n",
    "                           county='ALL', statefips='48,TEXAS'):\n",
    "    url = \"https://www.ncdc.noaa.gov/stormevents/listevents.jsp?\"\n",
    "    params = {'beginDate_mm': beginDate_mm,\n",
    "              'beginDate_dd': beginDate_dd,\n",
    "              'beginDate_yyyy': beginDate_yyyy,\n",
    "              'endDate_mm': endDate_mm,\n",
    "              'endDate_dd': endDate_dd,\n",
    "              'endDate_yyyy': endDate_yyyy,\n",
    "              'county': county,\n",
    "              'statefips': statefips}\n",
    "    \n",
    "    searchUrl = \"https://www.ncdc.noaa.gov/stormevents/choosedates.jsp?statefips=-999%2CALL\"\n",
    "    search_html = retrieve_html(searchUrl)[1]\n",
    "    \n",
    "    damage_values = getFundingForCounty(url, eventUrl, params, search_html)\n",
    "    return damage_values"
   ]
  },
  {
   "cell_type": "code",
   "execution_count": null,
   "metadata": {
    "collapsed": true
   },
   "outputs": [],
   "source": [
    "year_state_county_damage = {}\n",
    "pevents = [{'eventType':eventTypes[0]},\n",
    "          {'eventType':eventTypes[1]},\n",
    "          {'eventType':eventTypes[2]},\n",
    "          {'eventType':eventTypes[3]},\n",
    "          {'eventType':eventTypes[4]},\n",
    "          {'eventType':eventTypes[5]},\n",
    "          {'eventType':eventTypes[6]},\n",
    "          {'eventType':eventTypes[7]},\n",
    "          {'eventType':eventTypes[8]},\n",
    "          {'eventType': eventTypes[9]}]\n",
    "urlevents = [urllib.parse.urlencode(p) for p in pevents]\n",
    "state_county = getCountyList()\n",
    "beginYearList = [2005, 2007, 2008, 2010, 2011, 2012, 2013, 2016, 2017]"
   ]
  },
  {
   "cell_type": "code",
   "execution_count": 46,
   "metadata": {},
   "outputs": [
    {
     "name": "stdout",
     "output_type": "stream",
     "text": [
      "Alabama for year 2005 received:  1164000000.0\n",
      "{'-- All --': 1164000000.0, 'Autauga': 260000.0, 'Baldwin': 0.0, 'Barbour': 77000.0, 'Bibb': 260000.0, 'Blount': 97000.0, 'Bullock': 64000.0, 'Butler': 0.0, 'Calhoun': 56000.0, 'Chambers': 34000.0, 'Cherokee': 108000.0, 'Chilton': 180000.0, 'Choctaw': 0.0, 'Clarke': 0.0, 'Clay': 91000.0, 'Cleburne': 49000.0, 'Coffee': 300000.0, 'Colbert': 0.0, 'Conecuh': 0.0, 'Coosa': 140000.0, 'Covington': 0.0, 'Crenshaw': 0.0, 'Cullman': 0.0, 'Dale': 300000.0, 'Dallas': 855000.0, 'Dekalb': 0.0, 'Elmore': 240000.0, 'Escambia': 0.0, 'Etowah': 47000.0, 'Fayette': 555000.0, 'Franklin': 0.0, 'Geneva': 150000.0, 'Greene': 1988000.0, 'Hale': 2178000.0, 'Henry': 100000.0, 'Houston': 650000.0, 'Jackson': 0.0, 'Jefferson': 6400000.0, 'Lamar': 1860000.0, 'Lauderdale': 0.0, 'Lawrence': 5000.0, 'Lee': 55000.0, 'Limestone': 0.0, 'Lowndes': 360000.0, 'Macon': 90000.0, 'Madison': 0.0, 'Marengo': 3305000.0, 'Marion': 3060000.0, 'Marshall': 0.0, 'Mobile': 0.0, 'Monroe': 0.0, 'Montgomery': 382000.0, 'Morgan': 0.0, 'Perry': 1240000.0, 'Pickens': 565000.0, 'Pike': 68000.0, 'Randolph': 63000.0, 'Russell': 63000.0, 'Shelby': 3200000.0, 'St. Clair': 142000.0, 'Sumter': 4215000.0, 'Talladega': 175000.0, 'Tallapoosa': 255000.0, 'Tuscaloosa': 5700000.0, 'Walker': 855000.0, 'Washington': 0.0, 'Wilcox': 0.0, 'Winston': 1060000.0}\n"
     ]
    },
    {
     "ename": "KeyboardInterrupt",
     "evalue": "",
     "output_type": "error",
     "traceback": [
      "\u001b[0;31m---------------------------------------------------------------------------\u001b[0m",
      "\u001b[0;31mKeyboardInterrupt\u001b[0m                         Traceback (most recent call last)",
      "\u001b[0;32m<ipython-input-46-5aa77c6278de>\u001b[0m in \u001b[0;36m<module>\u001b[0;34m()\u001b[0m\n\u001b[1;32m      1\u001b[0m \u001b[0;32mfor\u001b[0m \u001b[0myear\u001b[0m \u001b[0;32min\u001b[0m \u001b[0mbeginYearList\u001b[0m\u001b[0;34m:\u001b[0m\u001b[0;34m\u001b[0m\u001b[0m\n\u001b[1;32m      2\u001b[0m     year_state_county_damage[year] = getCountyLevelFundingDataFromNOAA(eventUrl=urlevents, beginDate_yyyy=str(year), \n\u001b[0;32m----> 3\u001b[0;31m                                                                        endDate_yyyy=str(year))\n\u001b[0m",
      "\u001b[0;32m<ipython-input-45-350f1bb87086>\u001b[0m in \u001b[0;36mgetCountyLevelFundingDataFromNOAA\u001b[0;34m(eventUrl, beginDate_mm, beginDate_dd, beginDate_yyyy, endDate_mm, endDate_dd, endDate_yyyy, county, statefips)\u001b[0m\n\u001b[1;32m     48\u001b[0m     \u001b[0msearch_html\u001b[0m \u001b[0;34m=\u001b[0m \u001b[0mretrieve_html\u001b[0m\u001b[0;34m(\u001b[0m\u001b[0msearchUrl\u001b[0m\u001b[0;34m)\u001b[0m\u001b[0;34m[\u001b[0m\u001b[0;36m1\u001b[0m\u001b[0;34m]\u001b[0m\u001b[0;34m\u001b[0m\u001b[0m\n\u001b[1;32m     49\u001b[0m \u001b[0;34m\u001b[0m\u001b[0m\n\u001b[0;32m---> 50\u001b[0;31m     \u001b[0mdamage_values\u001b[0m \u001b[0;34m=\u001b[0m \u001b[0mgetFundingForCounty\u001b[0m\u001b[0;34m(\u001b[0m\u001b[0murl\u001b[0m\u001b[0;34m,\u001b[0m \u001b[0meventUrl\u001b[0m\u001b[0;34m,\u001b[0m \u001b[0mparams\u001b[0m\u001b[0;34m,\u001b[0m \u001b[0msearch_html\u001b[0m\u001b[0;34m)\u001b[0m\u001b[0;34m\u001b[0m\u001b[0m\n\u001b[0m\u001b[1;32m     51\u001b[0m     \u001b[0;32mreturn\u001b[0m \u001b[0mdamage_values\u001b[0m\u001b[0;34m\u001b[0m\u001b[0m\n",
      "\u001b[0;32m<ipython-input-45-350f1bb87086>\u001b[0m in \u001b[0;36mgetFundingForCounty\u001b[0;34m(url, eventUrl, params, search_html)\u001b[0m\n\u001b[1;32m     25\u001b[0m             \u001b[0mval\u001b[0m \u001b[0;34m=\u001b[0m \u001b[0mgetNumber\u001b[0m\u001b[0;34m(\u001b[0m\u001b[0mparse_page\u001b[0m\u001b[0;34m(\u001b[0m\u001b[0mstate_damage_page\u001b[0m\u001b[0;34m)\u001b[0m\u001b[0;34m)\u001b[0m\u001b[0;34m\u001b[0m\u001b[0m\n\u001b[1;32m     26\u001b[0m             \u001b[0mstate_county_damage_val\u001b[0m\u001b[0;34m[\u001b[0m\u001b[0mstate_text\u001b[0m\u001b[0;34m]\u001b[0m\u001b[0;34m[\u001b[0m\u001b[0mcounty_text\u001b[0m\u001b[0;34m]\u001b[0m \u001b[0;34m=\u001b[0m \u001b[0mval\u001b[0m\u001b[0;34m\u001b[0m\u001b[0m\n\u001b[0;32m---> 27\u001b[0;31m             \u001b[0mtime\u001b[0m\u001b[0;34m.\u001b[0m\u001b[0msleep\u001b[0m\u001b[0;34m(\u001b[0m\u001b[0;36m0.5\u001b[0m\u001b[0;34m)\u001b[0m\u001b[0;34m\u001b[0m\u001b[0m\n\u001b[0m\u001b[1;32m     28\u001b[0m         \u001b[0;32mif\u001b[0m \u001b[0mstate_county_damage_val\u001b[0m\u001b[0;34m[\u001b[0m\u001b[0mstate_text\u001b[0m\u001b[0;34m]\u001b[0m\u001b[0;34m:\u001b[0m\u001b[0;34m\u001b[0m\u001b[0m\n\u001b[1;32m     29\u001b[0m             print(state_text, 'for year', params['beginDate_yyyy'], 'received: ',\n",
      "\u001b[0;31mKeyboardInterrupt\u001b[0m: "
     ]
    }
   ],
   "source": [
    "for year in beginYearList:\n",
    "    year_state_county_damage[year] = getCountyLevelFundingDataFromNOAA(eventUrl=urlevents, beginDate_yyyy=str(year), \n",
    "                                                                       endDate_yyyy=str(year))"
   ]
  },
  {
   "cell_type": "code",
   "execution_count": null,
   "metadata": {
    "collapsed": true
   },
   "outputs": [],
   "source": [
    "np.save('State_County_Damage.npy', year_state_county_damage)"
   ]
  }
 ],
 "metadata": {
  "kernelspec": {
   "display_name": "Python 3",
   "language": "python",
   "name": "python3"
  },
  "language_info": {
   "codemirror_mode": {
    "name": "ipython",
    "version": 3
   },
   "file_extension": ".py",
   "mimetype": "text/x-python",
   "name": "python",
   "nbconvert_exporter": "python",
   "pygments_lexer": "ipython3",
   "version": "3.6.3"
  }
 },
 "nbformat": 4,
 "nbformat_minor": 2
}
