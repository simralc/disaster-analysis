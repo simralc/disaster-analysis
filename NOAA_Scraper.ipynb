{
 "cells": [
  {
   "cell_type": "code",
   "execution_count": 1,
   "metadata": {
    "collapsed": true
   },
   "outputs": [],
   "source": [
    "import io, time, json\n",
    "import requests\n",
    "from bs4 import BeautifulSoup\n",
    "import urllib\n",
    "from urllib import parse"
   ]
  },
  {
   "cell_type": "code",
   "execution_count": 2,
   "metadata": {
    "collapsed": true
   },
   "outputs": [],
   "source": [
    "def retrieve_html(url, params = None):  \n",
    "    if params is None:\n",
    "        params = ''\n",
    "    response = requests.get(url + urllib.parse.urlencode(params))\n",
    "    return response.status_code, response.text"
   ]
  },
  {
   "cell_type": "code",
   "execution_count": 3,
   "metadata": {
    "collapsed": true
   },
   "outputs": [],
   "source": [
    "def parse_page(html):\n",
    "    soup = BeautifulSoup(html, 'html.parser')\n",
    "    prd = soup.find(\"table\", id=\"results\")\n",
    "    if prd is None:\n",
    "        print('No results found')\n",
    "        return\n",
    "    prd = soup.find_all(\"tr\")\n",
    "    fund_val = prd[8].find_all(\"td\")[-2].text\n",
    "    return fund_val"
   ]
  },
  {
   "cell_type": "code",
   "execution_count": 4,
   "metadata": {
    "collapsed": true
   },
   "outputs": [],
   "source": [
    "def get_all_states(html):\n",
    "    soup = BeautifulSoup(html, 'html.parser')\n",
    "    states = soup.find(\"select\", id=\"statefips\").find_all(\"option\")\n",
    "    states_text = [t.text for t in states]\n",
    "    states_values = [t['value'] for t in states]\n",
    "    return states_values"
   ]
  },
  {
   "cell_type": "code",
   "execution_count": 11,
   "metadata": {
    "collapsed": true
   },
   "outputs": [],
   "source": [
    "def getFundingForQuery(url, params, search_html):\n",
    "    state_list = get_all_states(search_html)\n",
    "    state_damage_vals = []\n",
    "    for state in state_list:\n",
    "        params['statefips'] = state\n",
    "        state_damage_page = retrieve_html(url, params)[1]\n",
    "        state_damage_vals.append(parse_page(state_damage_page))\n",
    "    return state_damage_vals"
   ]
  },
  {
   "cell_type": "code",
   "execution_count": 19,
   "metadata": {
    "collapsed": true
   },
   "outputs": [],
   "source": [
    "def getFundingDataFromNOAA(eventType='(Z) Storm Surge/Tide', beginDate_mm='01', beginDate_dd='01', \n",
    "                           beginDate_yyyy='2017', endDate_mm='01', endDate_dd='31', endDate_yyyy='2018', \n",
    "                           county='ALL', statefips='48,TEXAS'):\n",
    "    url = \"https://www.ncdc.noaa.gov/stormevents/listevents.jsp?\"\n",
    "    params = {'eventType': eventType,\n",
    "                  'beginDate_mm': beginDate_mm,\n",
    "                  'beginDate_dd': beginDate_dd,\n",
    "                  'beginDate_yyyy': beginDate_yyyy,\n",
    "                  'endDate_mm': endDate_mm,\n",
    "                  'endDate_dd': endDate_dd,\n",
    "                  'endDate_yyyy': endDate_yyyy,\n",
    "                  'county': county,\n",
    "                  'sort': 'DT',\n",
    "                  'submitbutton': 'Search',\n",
    "                  'statefips': statefips}\n",
    "\n",
    "    searchUrl = \"https://www.ncdc.noaa.gov/stormevents/choosedates.jsp?statefips=-999%2CALL\"\n",
    "    search_html = retrieve_html(searchUrl)[1]\n",
    "    damage_values = getFundingForQuery(url, params, search_html)\n",
    "    return damage_values"
   ]
  },
  {
   "cell_type": "code",
   "execution_count": 15,
   "metadata": {
    "collapsed": true
   },
   "outputs": [],
   "source": [
    "# vals = getFundingDataFromNOAA()"
   ]
  },
  {
   "cell_type": "code",
   "execution_count": 16,
   "metadata": {
    "collapsed": true
   },
   "outputs": [],
   "source": [
    "# vals[:10]"
   ]
  }
 ],
 "metadata": {
  "kernelspec": {
   "display_name": "Python 3",
   "language": "python",
   "name": "python3"
  },
  "language_info": {
   "codemirror_mode": {
    "name": "ipython",
    "version": 3
   },
   "file_extension": ".py",
   "mimetype": "text/x-python",
   "name": "python",
   "nbconvert_exporter": "python",
   "pygments_lexer": "ipython3",
   "version": "3.6.3"
  }
 },
 "nbformat": 4,
 "nbformat_minor": 2
}
